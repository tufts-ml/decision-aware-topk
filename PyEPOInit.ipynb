{
 "cells": [
  {
   "cell_type": "code",
   "execution_count": 5,
   "id": "7e59e32a",
   "metadata": {},
   "outputs": [
    {
     "name": "stdout",
     "output_type": "stream",
     "text": [
      "The autoreload extension is already loaded. To reload it, use:\n",
      "  %reload_ext autoreload\n"
     ]
    }
   ],
   "source": [
    "%load_ext autoreload\n",
    "%autoreload 2\n",
    "import os\n",
    "import sys\n",
    "import json\n",
    "import numpy as np\n",
    "import torch\n",
    "from torch.utils.data import DataLoader\n",
    "import numpy as np\n",
    "import pandas as pd\n",
    "import pyepo\n",
    "import time\n",
    "import argparse\n",
    "from torch_models import PyEPONegativeBinomialRegressionModel, deterministic_bpr\n",
    "from data_loader import load_data"
   ]
  },
  {
   "cell_type": "code",
   "execution_count": 7,
   "id": "63588876",
   "metadata": {},
   "outputs": [],
   "source": [
    "best_cook_spo = '/cluster/tufts/hugheslab/kheuto01/pyepo_exps/20250330_run/cook_spo+_step1e-01'\n",
    "data_dir = '/cluster/tufts/hugheslab/kheuto01/code/decision-aware-topk/data/aerial_surv/'\n",
    "seed = 360\n",
    "method_name = 'spo+'\n",
    "pg_sigma = 1\n",
    "batch_size = 4\n",
    "K=50\n",
    "device='cpu'\n",
    "step_size = 1e-3\n"
   ]
  },
  {
   "cell_type": "code",
   "execution_count": 8,
   "id": "d0c91ae5",
   "metadata": {},
   "outputs": [
    {
     "name": "stdout",
     "output_type": "stream",
     "text": [
      "Restricted license - for non-production use only - expires 2026-11-23\n",
      "Optimizing for optDataset...\n"
     ]
    },
    {
     "name": "stderr",
     "output_type": "stream",
     "text": [
      "100%|██████████| 15/15 [00:00<00:00, 270.38it/s]\n"
     ]
    },
    {
     "name": "stdout",
     "output_type": "stream",
     "text": [
      "Optimizing for optDataset...\n"
     ]
    },
    {
     "name": "stderr",
     "output_type": "stream",
     "text": [
      "100%|██████████| 6/6 [00:00<00:00, 627.89it/s]\n"
     ]
    },
    {
     "name": "stdout",
     "output_type": "stream",
     "text": [
      "Num of cores: 1\n"
     ]
    }
   ],
   "source": [
    "# Set random seed for reproducibility\n",
    "if seed is not None:\n",
    "    torch.manual_seed(seed)\n",
    "    np.random.seed(seed)\n",
    "\n",
    "X_train, y_train, train_time = load_data(data_dir, 'train', device='cpu')\n",
    "# add train_time [B,S] to the end of X_train [B,S,F]\n",
    "X_train = torch.cat([X_train, train_time.unsqueeze(-1)], dim=-1)\n",
    "capacities = [K]\n",
    "num_locations = X_train.shape[1]\n",
    "weights = np.ones((1, num_locations))\n",
    "optmodel = pyepo.model.grb.knapsackModel(weights, capacities)\n",
    "# get training data set\n",
    "dataset_train = pyepo.data.dataset.optDataset(optmodel, X_train, y_train)\n",
    "loader_train = DataLoader(dataset_train, batch_size=batch_size, shuffle=True)\n",
    "\n",
    "X_val, y_val, val_time = load_data(data_dir, 'valid', device='cpu')\n",
    "X_val = torch.cat([X_val, val_time.unsqueeze(-1)], dim=-1)\n",
    "dataset_val = pyepo.data.dataset.optDataset(optmodel, X_val, y_val)\n",
    "loader_val = DataLoader(dataset_val, batch_size=len(dataset_val), shuffle=False)\n",
    "\n",
    "# Initialize model\n",
    "model = PyEPONegativeBinomialRegressionModel(\n",
    "    num_locations=X_train.shape[1],\n",
    "    num_fixed_effects=X_train.shape[2]-1, device=device\n",
    ").to(device)\n",
    "\n",
    "if method_name =='spo+':\n",
    "    spop = pyepo.func.SPOPlus(optmodel, processes=1)\n",
    "    loss_func = spop\n",
    "elif method_name == 'pg':\n",
    "    loss_func = pyepo.func.perturbationGradient(optmodel, sigma=pg_sigma, two_sides=False, processes=1)\n",
    "elif method_name == 'ltr':\n",
    "    loss_func = pyepo.func.LTR(optmodel, processes=1)\n",
    "else:\n",
    "    raise ValueError(f\"Unknown method {method_name}\")\n",
    "\n",
    "# Setup optimizer\n",
    "optimizer = torch.optim.Adam(model.parameters(), lr=step_size)\n",
    "\n",
    "    # Initialize metric tracking with separate epoch tracking for validation\n",
    "metrics = {\n",
    "    'train': {\n",
    "        'epochs': [], \n",
    "        'loss': [], \n",
    "        'nll': [], \n",
    "        'deterministic_bpr': [],\n",
    "        'regret': [],\n",
    "    },\n",
    "    'val': {\n",
    "        'epochs': [], \n",
    "        'loss': [], \n",
    "        'nll': [], \n",
    "        'deterministic_bpr': [],\n",
    "        'regret': [],\n",
    "    },\n",
    "    'times': []\n",
    "}\n",
    "\n",
    "best_val_loss = float('inf')"
   ]
  },
  {
   "cell_type": "code",
   "execution_count": null,
   "id": "421e9bec",
   "metadata": {},
   "outputs": [
    {
     "data": {
      "text/plain": [
       "tensor([1., 1., 1.,  ..., 1., 1., 1.])"
      ]
     },
     "execution_count": 11,
     "metadata": {},
     "output_type": "execute_result"
    }
   ],
   "source": [
    "# update model parameters, set beta and beta_0 to zeroes, b_0 to zeroes, and b_1 to ones\n",
    "model.beta.data.zero_()\n",
    "model.beta_0.data[:-5].zero_()\n",
    "model.beta_0.data[-5:].fill_(1.0)\n",
    "model.b_0.data.zero_()\n",
    "model.b_1.data.zero_()\n"
   ]
  },
  {
   "cell_type": "code",
   "execution_count": null,
   "id": "4339320b",
   "metadata": {},
   "outputs": [],
   "source": []
  }
 ],
 "metadata": {
  "kernelspec": {
   "display_name": "pyepo",
   "language": "python",
   "name": "python3"
  },
  "language_info": {
   "codemirror_mode": {
    "name": "ipython",
    "version": 3
   },
   "file_extension": ".py",
   "mimetype": "text/x-python",
   "name": "python",
   "nbconvert_exporter": "python",
   "pygments_lexer": "ipython3",
   "version": "3.11.11"
  }
 },
 "nbformat": 4,
 "nbformat_minor": 5
}
